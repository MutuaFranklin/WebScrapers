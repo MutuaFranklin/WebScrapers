{
 "cells": [
  {
   "cell_type": "markdown",
   "metadata": {},
   "source": [
    "# TwitterScraper\n",
    "\n",
    "## A tool program for scraping Twitter content, given search criteria."
   ]
  },
  {
   "cell_type": "markdown",
   "metadata": {},
   "source": [
    "Installing required libraries. These steps are necessary only once per Anaconda environment. To run them, remove the \"#\" from the code. For each, wait for output indicating that the installation is complete.\n"
   ]
  },
  {
   "cell_type": "code",
   "execution_count": null,
   "metadata": {},
   "outputs": [],
   "source": [
    "#pip install twitterscraper==1.1.0"
   ]
  },
  {
   "cell_type": "code",
   "execution_count": null,
   "metadata": {},
   "outputs": [],
   "source": [
    "#pip install pandas"
   ]
  },
  {
   "cell_type": "code",
   "execution_count": null,
   "metadata": {},
   "outputs": [],
   "source": [
    "#pip install xlsxWriter"
   ]
  },
  {
   "cell_type": "markdown",
   "metadata": {},
   "source": [
    "Importing tools the program needs in order to run. You must run these lines of code every time you use the program. To run a line of code, click on its box, then press \"Shift / Enter.\" Or, click the triangle/bar symbol next to the box."
   ]
  },
  {
   "cell_type": "code",
   "execution_count": null,
   "metadata": {
    "scrolled": true
   },
   "outputs": [],
   "source": [
    "from twitterscraper import query_tweets"
   ]
  },
  {
   "cell_type": "code",
   "execution_count": null,
   "metadata": {},
   "outputs": [],
   "source": [
    "import datetime as dt\n",
    "import pandas as pd"
   ]
  },
  {
   "cell_type": "markdown",
   "metadata": {},
   "source": [
    "Setting parameters for the search. Edit the begin_data, end_date, limit and lang values in the code as desired. This demo has been set to capture a maximum of 1,000 [limit = 1000] English-language tweets [lang = 'english'] posted between April 21, 2020 [begin_data = dt.date(2020,4,21)] and April 22, 2020 [end_date = dt.date(2020,4,22)]. You may change these parameters to whatever you like. Be aware that the larger the tweet limit you set, the longer the program will take to run. "
   ]
  },
  {
   "cell_type": "code",
   "execution_count": null,
   "metadata": {},
   "outputs": [],
   "source": [
    "begin_date = dt.date(2020,4,21)\n",
    "end_date = dt.date(2020,4,22)\n",
    "limit = 1000\n",
    "lang = 'english'"
   ]
  },
  {
   "cell_type": "markdown",
   "metadata": {},
   "source": [
    "Enter your search term or terms into the code below, between the quote marks after query_tweets( and before begindate=begindate. This code: [Trump AND virus min_retweets:100\"] sets the scraper to scrape tweets that mention both \"Trump\" and \"virus\" and that were retweeted 100 times or more. See Twitter's advanced search tool, https://twitter.com/search-advanced?lang=en, for constructing other, or more complex, searches using additional search criteria. The minimum is one search term, as in just [\"Trump\"] \n",
    "\n",
    "Run the code. It will take a few minutes. Wait for a \"Done\" message to appear before you execute the next code block."
   ]
  },
  {
   "cell_type": "code",
   "execution_count": null,
   "metadata": {
    "scrolled": true
   },
   "outputs": [],
   "source": [
    "tweets = query_tweets(\"Trump AND virus min_retweets:100\", begindate=begin_date, enddate = end_date, limit = limit, lang = lang)\n",
    "print('Done')"
   ]
  },
  {
   "cell_type": "markdown",
   "metadata": {},
   "source": [
    "The next line of code imports the retrieved tweets into a Pandas dataframe. Pandas is a data analysis program. A dataframe is a type of dataset that Pandas can read. A Pandas dataframe is structured pretty much like an Excel file, with rows and columns. You'll be able to get a look at part of one in a moment."
   ]
  },
  {
   "cell_type": "code",
   "execution_count": null,
   "metadata": {},
   "outputs": [],
   "source": [
    "df = pd.DataFrame(t.__dict__ for t in tweets)"
   ]
  },
  {
   "cell_type": "markdown",
   "metadata": {},
   "source": [
    "The next three lines of code are optional. Use them if you want a glimpse of what the Pandas dataframe you have created looks like. Pick whicheve one or ones you want to run, remove the \"#\" at the start of the code, and run the code. The \"df.head (20)\" code will show the first 20 records in the Pandas dataframe containing the retrieved tweets, just to verify that the program has worked. The \"df.sample (20)\" code will show a random sample of 20, if at least 20 are avaiable. The \"df.tail (20)\" will show the last 20."
   ]
  },
  {
   "cell_type": "code",
   "execution_count": null,
   "metadata": {
    "scrolled": true
   },
   "outputs": [],
   "source": [
    "#df.head (20)"
   ]
  },
  {
   "cell_type": "code",
   "execution_count": null,
   "metadata": {},
   "outputs": [],
   "source": [
    "#df.sample (20)"
   ]
  },
  {
   "cell_type": "code",
   "execution_count": null,
   "metadata": {},
   "outputs": [],
   "source": [
    "#df.tail (20)"
   ]
  },
  {
   "cell_type": "markdown",
   "metadata": {},
   "source": [
    "The next two code boxes load the ExcelWriter program and save the data in the Pandas dataframe to an Excel file on your computer's hard drive. The Excel file will be stored in the same directory as this program. You may customize the name of the Excel file by customizing the 'TweetsAboutTrump.xlsx' name given in the code in the second box. The 'Tweets' parameter is also customizable. It specifies the name that will be given to the tab in the Excel file where the program will store the data."
   ]
  },
  {
   "cell_type": "code",
   "execution_count": null,
   "metadata": {},
   "outputs": [],
   "source": [
    "from pandas import ExcelWriter"
   ]
  },
  {
   "cell_type": "code",
   "execution_count": null,
   "metadata": {},
   "outputs": [],
   "source": [
    "writer = ExcelWriter('TweetsAboutTrump.xlsx')\n",
    "df.to_excel(writer, 'Tweets')\n",
    "writer.save()"
   ]
  }
 ],
 "metadata": {
  "kernelspec": {
   "display_name": "Python 3",
   "language": "python",
   "name": "python3"
  },
  "language_info": {
   "codemirror_mode": {
    "name": "ipython",
    "version": 3
   },
   "file_extension": ".py",
   "mimetype": "text/x-python",
   "name": "python",
   "nbconvert_exporter": "python",
   "pygments_lexer": "ipython3",
   "version": "3.7.6"
  }
 },
 "nbformat": 4,
 "nbformat_minor": 2
}