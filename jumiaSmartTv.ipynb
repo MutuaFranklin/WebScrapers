{
  "nbformat": 4,
  "nbformat_minor": 0,
  "metadata": {
    "colab": {
      "name": "jumiaScaper.ipynb",
      "provenance": [],
      "collapsed_sections": [],
      "toc_visible": true
    },
    "kernelspec": {
      "name": "python3",
      "display_name": "Python 3",
      "language": "python"
    },
    "language_info": {
      "name": "python",
      "version": "3.8.5"
    }
  },
  "cells": [
    {
      "cell_type": "markdown",
      "metadata": {
        "id": "T_MFXJn4kTzH"
      },
      "source": [
        "# **JUMIA WEB SCRAPING**\n",
        "### A python code written to scrape  all smart tvs(names and prices) and all LG products in jumia and write the scraped data to a csv file\n",
        "#### Author: Franklin Mutua\n",
        "##### This project is licensed under the MIT License - see the LICENSE.txt file for details\n"
      ]
    },
    {
      "cell_type": "code",
      "metadata": {
        "id": "5G2_mrPxfUGM"
      },
      "source": [
        "import csv\n",
        "import requests\n",
        "from bs4 import BeautifulSoup"
      ],
      "execution_count": 3,
      "outputs": [
        {
          "output_type": "error",
          "ename": "ModuleNotFoundError",
          "evalue": "No module named 'bs4'",
          "traceback": [
            "\u001b[0;31m---------------------------------------------------------------------------\u001b[0m",
            "\u001b[0;31mModuleNotFoundError\u001b[0m                       Traceback (most recent call last)",
            "\u001b[0;32m<ipython-input-3-a4ae076af053>\u001b[0m in \u001b[0;36m<module>\u001b[0;34m\u001b[0m\n\u001b[1;32m      1\u001b[0m \u001b[0;32mimport\u001b[0m \u001b[0mcsv\u001b[0m\u001b[0;34m\u001b[0m\u001b[0;34m\u001b[0m\u001b[0m\n\u001b[1;32m      2\u001b[0m \u001b[0;32mimport\u001b[0m \u001b[0mrequests\u001b[0m\u001b[0;34m\u001b[0m\u001b[0;34m\u001b[0m\u001b[0m\n\u001b[0;32m----> 3\u001b[0;31m \u001b[0;32mfrom\u001b[0m \u001b[0mbs4\u001b[0m \u001b[0;32mimport\u001b[0m \u001b[0mBeautifulSoup\u001b[0m\u001b[0;34m\u001b[0m\u001b[0;34m\u001b[0m\u001b[0m\n\u001b[0m",
            "\u001b[0;31mModuleNotFoundError\u001b[0m: No module named 'bs4'"
          ]
        }
      ]
    },
    {
      "cell_type": "code",
      "metadata": {
        "id": "S4mghBKXg2nG"
      },
      "source": [
        "#pip install BeautifulSoup"
      ],
      "execution_count": null,
      "outputs": []
    },
    {
      "cell_type": "code",
      "metadata": {
        "id": "TwDNuiVOgSIb"
      },
      "source": [
        "URL = 'https://www.jumia.co.ke/smart-tvs-2282/'\n"
      ],
      "execution_count": null,
      "outputs": []
    },
    {
      "cell_type": "code",
      "metadata": {
        "id": "l0jwMsoGhKbF"
      },
      "source": [
        "page = requests.get(URL).text"
      ],
      "execution_count": null,
      "outputs": []
    },
    {
      "cell_type": "code",
      "metadata": {
        "id": "sJJLNNTthKk4"
      },
      "source": [
        "soup = BeautifulSoup(page, 'html.parser')"
      ],
      "execution_count": null,
      "outputs": []
    },
    {
      "cell_type": "code",
      "metadata": {
        "id": "kmrNP6W8gWJH"
      },
      "source": [
        "articles = soup.find_all('article', class_='prd _fb col c-prd')\n",
        "\n"
      ],
      "execution_count": null,
      "outputs": []
    },
    {
      "cell_type": "code",
      "metadata": {
        "id": "dVOaLDKFgWTk"
      },
      "source": [
        "filename = 'smart_tvs.csv'\n"
      ],
      "execution_count": null,
      "outputs": []
    },
    {
      "cell_type": "code",
      "metadata": {
        "id": "UWK2VGM6gWdE"
      },
      "source": [
        "file = open(filename, 'w', newline = '')\n"
      ],
      "execution_count": null,
      "outputs": []
    },
    {
      "cell_type": "code",
      "metadata": {
        "colab": {
          "base_uri": "https://localhost:8080/"
        },
        "id": "dw7z_W-TgWkt",
        "outputId": "f4ef4d15-8430-44bc-cccf-18a7095645f4"
      },
      "source": [
        "file_writer = csv.writer(file)\n",
        "\n",
        "file_writer.writerow(['Product_name', 'Product_price'])\n"
      ],
      "execution_count": null,
      "outputs": [
        {
          "output_type": "execute_result",
          "data": {
            "text/plain": [
              "28"
            ]
          },
          "metadata": {
            "tags": []
          },
          "execution_count": 107
        }
      ]
    },
    {
      "cell_type": "code",
      "metadata": {
        "colab": {
          "base_uri": "https://localhost:8080/"
        },
        "id": "YDZ4gNIYgjbA",
        "outputId": "a4f379fa-345d-4c60-ee32-6aa60a0894f2"
      },
      "source": [
        "for article in articles:\n",
        "    information = article.find_all('div', class_='info')\n",
        "    product_name = article.h3.text\n",
        "    \n",
        "    price = article.find_all('div', class_='prc')\n",
        "    product_price = price[0].text\n",
        "    \n",
        "    print(product_name)\n",
        "    print(product_price)\n",
        "    print()\n",
        "    \n",
        "    file_writer.writerow([product_name, product_price])"
      ],
      "execution_count": null,
      "outputs": [
        {
          "output_type": "stream",
          "text": [
            "Vitron HD 22” Inches,LED Digital TV -USB And HDMI CONNECTIVITY\n",
            "KSh 6,850\n",
            "\n",
            "Vitron 43''SMART Android FHD TV, Netflix, Youtube +Free WallBracket\n",
            "KSh 26,978\n",
            "\n",
            "Skyworth 43E20 43\" Frameless Smart Android LED TV - Black\n",
            "KSh 29,999\n",
            "\n",
            "Iconix 22\"  HD Digital LED_Inbuilt Decoder TV\n",
            "KSh 6,500\n",
            "\n",
            "Vitron 43\" Inch FHD Smart Android TV +  A FREE TVGuard +WallBracket\n",
            "KSh 27,798\n",
            "\n",
            "Iconix 22 INCH Digital LED TV INBUILT DECODER\n",
            "KSh 6,499\n",
            "\n",
            "Vitron 32\"Inches Smart Android TV - Black + 6 Free Gifts\n",
            "KSh 22,999\n",
            "\n",
            "Infinix X1 32\" Inch FRAMELESS Smart AndroidTV,In-Built Wi-Fi,Google\n",
            "KSh 20,589\n",
            "\n",
            "Vitron HD 22” Inches,LED Digital TV -USB And HDMI Port\n",
            "KSh 6,850\n",
            "\n",
            "Skyworth 32STC6200, 32\", Super Narrow Android Smart LED TV - Black\n",
            "KSh 19,099\n",
            "\n",
            "Samsung UA32T5300AU,32\" Inch Smart HD TV HDR 5Series,NetflixYoutube\n",
            "KSh 24,999\n",
            "\n",
            "Vitron HTC3268S,32 Inch Smart Android Tv,Netflix,Youtube,Facebook\n",
            "KSh 19,995\n",
            "\n",
            "Vitron 43\" Inch Full HD Smart Android TV + FREE Wall Bracket\n",
            "KSh 26,986\n",
            "\n",
            "Hisense 32A62KEN,32\"Inch Bezelless Smart Android TV With Bluetooth\n",
            "KSh 23,999\n",
            "\n",
            "Samsung  40'' FULL HD SMART TV, NETFLIX, YOUTUBE UA40T5300AU\n",
            "KSh 35,899\n",
            "\n",
            "Infinix X1 32\" Inch Frameless Smart Android TV HDMI USB+FREE GIFTS\n",
            "KSh 21,999\n",
            "\n",
            "Vitron 4368FS,43 Inch TV SMART Android TV FULL HD-Netfix,Youtube TV\n",
            "KSh 26,985\n",
            "\n",
            "Samsung UA32T5300AU,32\" Inch Smart TV Series 5 Inbuilt WIFI + FREE GIFTS\n",
            "KSh 25,999\n",
            "\n",
            "Samsung UA32T5300AU,32\" Inch Smart HD TV Series 5 Inbuilt WIFI +FREE GIFTS\n",
            "KSh 26,499\n",
            "\n",
            "Vitron 22'' INCHES-Digital LED TV - HDMI,USB PORT\n",
            "KSh 6,890\n",
            "\n",
            "Syinix 43\" Smart TV,Android 9.0, Full HD 1080p,Chromecast\n",
            "KSh 31,580\n",
            "\n",
            "Itel D431L,43\" Inches Digital TV FHD TV DBT2 A +Panel RCA\n",
            "KSh 23,799\n",
            "\n",
            "Sonar SR43T81FS,43 Inch SmartAndroid TV Inbuilt WIFI USB,HDMI WIFI+FREE WALLBRACKET\n",
            "KSh 26,999\n",
            "\n",
            "SKY View LE32P9FS,32 Inch FRAMELESS Smart Android TV Inbuilt WIFI DV3T2/S2\n",
            "KSh 19,999\n",
            "\n",
            "Jpe E32A71BS,Frameless Smart Android 9.0 TV 8GB RAM Inbuilt\n",
            "KSh 18,599\n",
            "\n",
            "SKYWAVE 22\" LED DIGITAL TV CLEAR MOTION PICTURES\n",
            "KSh 6,200\n",
            "\n",
            "Hisense 32A62KEN,32\"Inch Frameless Smart Android TV With Bluetooth + FREE GIFTS\n",
            "KSh 25,599\n",
            "\n",
            "Syinix 43A1S,43 Inch Full HD Smart Android TV A20 Series Inbuilt WIFI + FREE GIFTS\n",
            "KSh 31,999\n",
            "\n",
            "Infinix X1 32\" Inch Smart AndroidTV,In-Built Wi-Fi NETFLIX,Youtube,GooglePlay\n",
            "KSh 20,995\n",
            "\n",
            "Jpe E32A71BS,Frameless Smart Android 9.0 TV 8GBRAM+FREE TV GUARD\n",
            "KSh 18,999\n",
            "\n",
            "Syinix 43\" Inches Full HD Smart Android TV A20 Series 2Yrs Warranty+Free TV Guard\n",
            "KSh 30,999\n",
            "\n",
            "Sonar SR43T81FS,43 Inch Smart Android TV InbuiltWIFI USB,HDMI+FREE TVGUARD+WALLBracket\n",
            "KSh 27,699\n",
            "\n",
            "Royal 43\"Inches SMART Android TV FHD Netfix,Youtube+ Free TV Guard\n",
            "KSh 27,499\n",
            "\n",
            "Vitron HTC3268S,32Inch Smart Android Tv,Netflix,Youtube+Wallbracket\n",
            "KSh 19,999\n",
            "\n",
            "TCL 32\" Frameless Smart LED TV+ Free TVGuard+Aerial+Audio Cable\n",
            "KSh 23,599\n",
            "\n",
            "Vision VP8843SF,43\"inch Frameless FHD Smart Android TV+Wall Bracket\n",
            "KSh 31,899\n",
            "\n",
            "Vision Plus VP8843SF,43\"inch,Frameless FHD Smart Android Bluetooth TV AppStore +FREE GIFTS\n",
            "KSh 32,999\n",
            "\n",
            "Vision Plus 32\" Inches FRAMELESS SMART ANDROID TV,DolbyAudio,DVBT2/S2,BT\n",
            "KSh 20,698\n",
            "\n",
            "Vitron 43''SMART Android TV Full HD Inbuilt WIFI,Netflix,Youtube+Free TV Guard\n",
            "KSh 27,599\n",
            "\n",
            "Hisense 43'' 4K ULTRA HD SMART TV, FRAMELESS, BLUETOOTH, HDR A7 SERIES-Black\n",
            "KSh 40,500\n",
            "\n"
          ],
          "name": "stdout"
        }
      ]
    },
    {
      "cell_type": "code",
      "metadata": {
        "id": "7R8kq5Aolkj-"
      },
      "source": [],
      "execution_count": null,
      "outputs": []
    }
  ]
}